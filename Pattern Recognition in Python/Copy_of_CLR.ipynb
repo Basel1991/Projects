{
  "nbformat": 4,
  "nbformat_minor": 0,
  "metadata": {
    "colab": {
      "name": "Copy of CLR.ipynb",
      "version": "0.3.2",
      "views": {},
      "default_view": {},
      "provenance": [
        {
          "file_id": "13HuqDlTEbz14qOOI7O2RtoMWmsbTewbr",
          "timestamp": 1529350831100
        }
      ],
      "collapsed_sections": [
        "3JA91-RvS4B9"
      ],
      "toc_visible": true
    },
    "kernelspec": {
      "name": "python3",
      "display_name": "Python 3"
    },
    "accelerator": "GPU"
  },
  "cells": [
    {
      "metadata": {
        "id": "Vaw-HZ4qwDDk",
        "colab_type": "text"
      },
      "cell_type": "markdown",
      "source": [
        "# INITIALIZATION"
      ]
    },
    {
      "metadata": {
        "id": "DcqzWk0x_RQF",
        "colab_type": "code",
        "colab": {
          "autoexec": {
            "startup": false,
            "wait_interval": 0
          },
          "base_uri": "https://localhost:8080/",
          "height": 2361
        },
        "collapsed": true,
        "outputId": "ba7c13e8-fcb6-4c62-f001-39b164d5d5d2"
      },
      "cell_type": "code",
      "source": [
        "\n",
        "!apt-get install -y -qq software-properties-common python-software-properties module-init-tools\n",
        "!add-apt-repository -y ppa:alessandro-strada/ppa 2>&1 > /dev/null\n",
        "!apt-get update -qq 2>&1 > /dev/null\n",
        "!apt-get -y install -qq google-drive-ocamlfuse fuse\n",
        "from google.colab import auth\n",
        "auth.authenticate_user()\n",
        "from oauth2client.client import GoogleCredentials\n",
        "creds = GoogleCredentials.get_application_default()\n",
        "import getpass\n",
        "!google-drive-ocamlfuse -headless -id={creds.client_id} -secret={creds.client_secret} < /dev/null 2>&1 | grep URL\n",
        "vcode = getpass.getpass()\n",
        "!echo {vcode} | google-drive-ocamlfuse -headless -id={creds.client_id} -secret={creds.client_secret}\n"
      ],
      "execution_count": 0,
      "outputs": [
        {
          "output_type": "stream",
          "text": [
            "Preconfiguring packages ...\n",
            "Selecting previously unselected package cron.\n",
            "(Reading database ... 18298 files and directories currently installed.)\n",
            "Preparing to unpack .../00-cron_3.0pl1-128ubuntu5_amd64.deb ...\n",
            "Unpacking cron (3.0pl1-128ubuntu5) ...\n",
            "Selecting previously unselected package libapparmor1:amd64.\n",
            "Preparing to unpack .../01-libapparmor1_2.11.0-2ubuntu17.1_amd64.deb ...\n",
            "Unpacking libapparmor1:amd64 (2.11.0-2ubuntu17.1) ...\n",
            "Selecting previously unselected package libdbus-1-3:amd64.\n",
            "Preparing to unpack .../02-libdbus-1-3_1.10.22-1ubuntu1_amd64.deb ...\n",
            "Unpacking libdbus-1-3:amd64 (1.10.22-1ubuntu1) ...\n",
            "Selecting previously unselected package dbus.\n",
            "Preparing to unpack .../03-dbus_1.10.22-1ubuntu1_amd64.deb ...\n",
            "Unpacking dbus (1.10.22-1ubuntu1) ...\n",
            "Selecting previously unselected package dirmngr.\n",
            "Preparing to unpack .../04-dirmngr_2.1.15-1ubuntu8_amd64.deb ...\n",
            "Unpacking dirmngr (2.1.15-1ubuntu8) ...\n",
            "Selecting previously unselected package distro-info-data.\n",
            "Preparing to unpack .../05-distro-info-data_0.36ubuntu0.2_all.deb ...\n",
            "Unpacking distro-info-data (0.36ubuntu0.2) ...\n",
            "Selecting previously unselected package libkmod2:amd64.\n",
            "Preparing to unpack .../06-libkmod2_24-1ubuntu2_amd64.deb ...\n",
            "Unpacking libkmod2:amd64 (24-1ubuntu2) ...\n",
            "Selecting previously unselected package kmod.\n",
            "Preparing to unpack .../07-kmod_24-1ubuntu2_amd64.deb ...\n",
            "Unpacking kmod (24-1ubuntu2) ...\n",
            "Selecting previously unselected package lsb-release.\n",
            "Preparing to unpack .../08-lsb-release_9.20160110ubuntu5_all.deb ...\n",
            "Unpacking lsb-release (9.20160110ubuntu5) ...\n",
            "Selecting previously unselected package libgirepository-1.0-1:amd64.\n",
            "Preparing to unpack .../09-libgirepository-1.0-1_1.54.1-1_amd64.deb ...\n",
            "Unpacking libgirepository-1.0-1:amd64 (1.54.1-1) ...\n",
            "Selecting previously unselected package gir1.2-glib-2.0:amd64.\n",
            "Preparing to unpack .../10-gir1.2-glib-2.0_1.54.1-1_amd64.deb ...\n",
            "Unpacking gir1.2-glib-2.0:amd64 (1.54.1-1) ...\n",
            "Selecting previously unselected package iso-codes.\n",
            "Preparing to unpack .../11-iso-codes_3.75-1_all.deb ...\n",
            "Unpacking iso-codes (3.75-1) ...\n",
            "Selecting previously unselected package libdbus-glib-1-2:amd64.\n",
            "Preparing to unpack .../12-libdbus-glib-1-2_0.108-2_amd64.deb ...\n",
            "Unpacking libdbus-glib-1-2:amd64 (0.108-2) ...\n",
            "Selecting previously unselected package python-apt-common.\n",
            "Preparing to unpack .../13-python-apt-common_1.4.0~beta3build2_all.deb ...\n",
            "Unpacking python-apt-common (1.4.0~beta3build2) ...\n",
            "Selecting previously unselected package python3-apt.\n",
            "Preparing to unpack .../14-python3-apt_1.4.0~beta3build2_amd64.deb ...\n",
            "Unpacking python3-apt (1.4.0~beta3build2) ...\n",
            "Selecting previously unselected package python3-dbus.\n",
            "Preparing to unpack .../15-python3-dbus_1.2.4-1build3_amd64.deb ...\n",
            "Unpacking python3-dbus (1.2.4-1build3) ...\n",
            "Selecting previously unselected package python3-gi.\n",
            "Preparing to unpack .../16-python3-gi_3.24.1-2build1_amd64.deb ...\n",
            "Unpacking python3-gi (3.24.1-2build1) ...\n",
            "Selecting previously unselected package module-init-tools.\n",
            "Preparing to unpack .../17-module-init-tools_24-1ubuntu2_all.deb ...\n",
            "Unpacking module-init-tools (24-1ubuntu2) ...\n",
            "Selecting previously unselected package python-apt.\n",
            "Preparing to unpack .../18-python-apt_1.4.0~beta3build2_amd64.deb ...\n",
            "Unpacking python-apt (1.4.0~beta3build2) ...\n",
            "Selecting previously unselected package python-pycurl.\n",
            "Preparing to unpack .../19-python-pycurl_7.43.0-2build2_amd64.deb ...\n",
            "Unpacking python-pycurl (7.43.0-2build2) ...\n",
            "Selecting previously unselected package python-software-properties.\n",
            "Preparing to unpack .../20-python-software-properties_0.96.24.17_all.deb ...\n",
            "Unpacking python-software-properties (0.96.24.17) ...\n",
            "Selecting previously unselected package python3-software-properties.\n",
            "Preparing to unpack .../21-python3-software-properties_0.96.24.17_all.deb ...\n",
            "Unpacking python3-software-properties (0.96.24.17) ...\n",
            "Selecting previously unselected package software-properties-common.\n",
            "Preparing to unpack .../22-software-properties-common_0.96.24.17_all.deb ...\n",
            "Unpacking software-properties-common (0.96.24.17) ...\n",
            "Selecting previously unselected package unattended-upgrades.\n",
            "Preparing to unpack .../23-unattended-upgrades_0.98ubuntu1.1_all.deb ...\n",
            "Unpacking unattended-upgrades (0.98ubuntu1.1) ...\n",
            "Setting up python-apt-common (1.4.0~beta3build2) ...\n",
            "Setting up python3-apt (1.4.0~beta3build2) ...\n",
            "Setting up iso-codes (3.75-1) ...\n",
            "Setting up distro-info-data (0.36ubuntu0.2) ...\n",
            "Setting up python-pycurl (7.43.0-2build2) ...\n",
            "Setting up lsb-release (9.20160110ubuntu5) ...\n",
            "Setting up libgirepository-1.0-1:amd64 (1.54.1-1) ...\n",
            "Setting up libkmod2:amd64 (24-1ubuntu2) ...\n"
          ],
          "name": "stdout"
        },
        {
          "output_type": "stream",
          "text": [
            "Setting up gir1.2-glib-2.0:amd64 (1.54.1-1) ...\r\n",
            "Processing triggers for libc-bin (2.26-0ubuntu2.1) ...\n",
            "Setting up libapparmor1:amd64 (2.11.0-2ubuntu17.1) ...\n",
            "Setting up unattended-upgrades (0.98ubuntu1.1) ...\n",
            "\n",
            "Creating config file /etc/apt/apt.conf.d/20auto-upgrades with new version\n",
            "\n",
            "Creating config file /etc/apt/apt.conf.d/50unattended-upgrades with new version\n",
            "invoke-rc.d: could not determine current runlevel\n",
            "invoke-rc.d: policy-rc.d denied execution of start.\n",
            "Setting up dirmngr (2.1.15-1ubuntu8) ...\n",
            "Setting up cron (3.0pl1-128ubuntu5) ...\n",
            "Adding group `crontab' (GID 102) ...\n",
            "Done.\n",
            "update-rc.d: warning: start and stop actions are no longer supported; falling back to defaults\n",
            "update-rc.d: warning: stop runlevel arguments (1) do not match cron Default-Stop values (none)\n",
            "invoke-rc.d: could not determine current runlevel\n",
            "invoke-rc.d: policy-rc.d denied execution of start.\n",
            "Setting up libdbus-1-3:amd64 (1.10.22-1ubuntu1) ...\n",
            "Setting up kmod (24-1ubuntu2) ...\n",
            "Setting up libdbus-glib-1-2:amd64 (0.108-2) ...\n",
            "Setting up python3-gi (3.24.1-2build1) ...\n",
            "Setting up module-init-tools (24-1ubuntu2) ...\n",
            "Setting up python3-software-properties (0.96.24.17) ...\n",
            "Setting up dbus (1.10.22-1ubuntu1) ...\n",
            "Setting up python-apt (1.4.0~beta3build2) ...\n",
            "Setting up python3-dbus (1.2.4-1build3) ...\n",
            "Setting up python-software-properties (0.96.24.17) ...\n",
            "Setting up software-properties-common (0.96.24.17) ...\n",
            "Processing triggers for libc-bin (2.26-0ubuntu2.1) ...\n",
            "Processing triggers for dbus (1.10.22-1ubuntu1) ...\n",
            "gpg: keybox '/tmp/tmposkv5vc3/pubring.gpg' created\n",
            "gpg: /tmp/tmposkv5vc3/trustdb.gpg: trustdb created\n",
            "gpg: key AD5F235DF639B041: public key \"Launchpad PPA for Alessandro Strada\" imported\n",
            "gpg: Total number processed: 1\n",
            "gpg:               imported: 1\n",
            "Warning: apt-key output should not be parsed (stdout is not a terminal)\n",
            "Selecting previously unselected package libfuse2:amd64.\n",
            "(Reading database ... 19706 files and directories currently installed.)\n",
            "Preparing to unpack .../libfuse2_2.9.7-1ubuntu1_amd64.deb ...\n",
            "Unpacking libfuse2:amd64 (2.9.7-1ubuntu1) ...\n",
            "Selecting previously unselected package fuse.\n",
            "Preparing to unpack .../fuse_2.9.7-1ubuntu1_amd64.deb ...\n",
            "Unpacking fuse (2.9.7-1ubuntu1) ...\n",
            "Selecting previously unselected package google-drive-ocamlfuse.\n",
            "Preparing to unpack .../google-drive-ocamlfuse_0.6.21-0ubuntu2_amd64.deb ...\n",
            "Unpacking google-drive-ocamlfuse (0.6.21-0ubuntu2) ...\n",
            "Setting up libfuse2:amd64 (2.9.7-1ubuntu1) ...\n",
            "Processing triggers for libc-bin (2.26-0ubuntu2.1) ...\n",
            "Setting up fuse (2.9.7-1ubuntu1) ...\n",
            "Setting up google-drive-ocamlfuse (0.6.21-0ubuntu2) ...\n"
          ],
          "name": "stdout"
        }
      ]
    },
    {
      "metadata": {
        "id": "3ghEobAV_YHy",
        "colab_type": "code",
        "colab": {
          "autoexec": {
            "startup": false,
            "wait_interval": 0
          },
          "base_uri": "https://localhost:8080/",
          "height": 857
        },
        "outputId": "4b825707-7d86-4a35-fb46-77365ce3f58a",
        "executionInfo": {
          "status": "ok",
          "timestamp": 1529437526143,
          "user_tz": -120,
          "elapsed": 9740,
          "user": {
            "displayName": "Basel Alyafi",
            "photoUrl": "//lh5.googleusercontent.com/-4bc4xy97xjo/AAAAAAAAAAI/AAAAAAAAAAw/d71NcTv7iIM/s50-c-k-no/photo.jpg",
            "userId": "104216984007366956330"
          }
        }
      },
      "cell_type": "code",
      "source": [
        "\n",
        "!mkdir -p drive\n",
        "!google-drive-ocamlfuse drive\n",
        "\n",
        "import os\n",
        "os.chdir(\"drive/COLAB/MicroCalc\")\n",
        "!ls --full-time\n",
        "\n",
        "!pip install -q scikit-plot\n",
        "# !pip install -q tflearn"
      ],
      "execution_count": 1,
      "outputs": [
        {
          "output_type": "stream",
          "text": [
            "total 220500\r\n",
            "-rw-r--r-- 1 root root  56322144 2018-06-12 06:54:44.000000000 +0000 300kNegative_test.h5\r\n",
            "-rw-r--r-- 1 root root 155765344 2018-06-12 06:54:20.000000000 +0000 300kNegative_train.h5\r\n",
            "-rw-r--r-- 1 root root      5455 2018-06-18 16:41:36.000000000 +0000 CLR.py\r\n",
            "drwxr-xr-x 2 root root      4096 2018-06-17 12:37:46.000000000 +0000 drive\r\n",
            "-rw-r--r-- 1 root root      6500 2018-06-13 10:06:55.000000000 +0000 KerasCNN.py\r\n",
            "-rw-r--r-- 1 root root      4639 2018-06-19 05:24:28.000000000 +0000 kerasModel_exp1.json\r\n",
            "-rw-r--r-- 1 root root      4638 2018-06-19 05:03:31.000000000 +0000 kerasModel_exp2.json\r\n",
            "-rw-r--r-- 1 root root      4638 2018-06-19 05:57:22.000000000 +0000 kerasModel_exp3.json\r\n",
            "-rw-r--r-- 1 root root      4638 2018-06-19 06:54:12.000000000 +0000 kerasModel_exp_sk36_1.json\r\n",
            "-rw-r--r-- 1 root root      4640 2018-06-19 07:02:34.000000000 +0000 kerasModel_exp_sk36_2.json\r\n",
            "-rw-r--r-- 1 root root      4640 2018-06-19 07:29:05.000000000 +0000 kerasModel_exp_sk36_3.json\r\n",
            "-rw-r--r-- 1 root root      4639 2018-06-18 20:23:01.000000000 +0000 kerasModel_init1.json\r\n",
            "-rw-r--r-- 1 root root      4638 2018-06-18 22:05:49.000000000 +0000 kerasModel_triang1.json\r\n",
            "-rw-r--r-- 1 root root      4638 2018-06-18 22:23:48.000000000 +0000 kerasModel_triang2.json\r\n",
            "-rw-r--r-- 1 root root      4640 2018-06-19 06:05:27.000000000 +0000 kerasModel_triang_sk36_1.json\r\n",
            "-rw-r--r-- 1 root root      4638 2018-06-19 06:09:57.000000000 +0000 kerasModel_triang_sk36_2.json\r\n",
            "-rw-r--r-- 1 root root      4640 2018-06-19 06:49:32.000000000 +0000 kerasModel_triang_sk36_3.json\r\n",
            "-rw-r--r-- 1 root root      2794 2018-06-13 17:51:52.000000000 +0000 KerasTest.py\r\n",
            "-rw-r--r-- 1 root root        92 2018-06-12 17:45:37.000000000 +0000 keras_test.txt\r\n",
            "drwxr-xr-x 2 root root      4096 2018-06-16 10:59:47.000000000 +0000 models\r\n",
            "-rw-r--r-- 1 root root    932976 2018-06-19 05:24:30.000000000 +0000 modelWeights_exp1.h5\r\n",
            "-rw-r--r-- 1 root root    932976 2018-06-19 05:03:32.000000000 +0000 modelWeights_exp2.h5\r\n",
            "-rw-r--r-- 1 root root    932976 2018-06-19 05:57:24.000000000 +0000 modelWeights_exp3.h5\r\n",
            "-rw-r--r-- 1 root root    932976 2018-06-19 06:54:14.000000000 +0000 modelWeights_exp_sk36_1.h5\r\n",
            "-rw-r--r-- 1 root root    932976 2018-06-19 07:02:35.000000000 +0000 modelWeights_exp_sk36_2.h5\r\n",
            "-rw-r--r-- 1 root root    932976 2018-06-19 07:29:06.000000000 +0000 modelWeights_exp_sk36_3.h5\r\n",
            "-rw-r--r-- 1 root root    932976 2018-06-18 20:23:01.000000000 +0000 modelWeights_init1.h5\r\n",
            "-rw-r--r-- 1 root root    932976 2018-06-18 22:05:50.000000000 +0000 modelWeights_triang1.h5\r\n",
            "-rw-r--r-- 1 root root    932976 2018-06-18 22:23:50.000000000 +0000 modelWeights_triang2.h5\r\n",
            "-rw-r--r-- 1 root root    932976 2018-06-19 06:05:29.000000000 +0000 modelWeights_triang_sk36_1.h5\r\n",
            "-rw-r--r-- 1 root root    932976 2018-06-19 06:09:58.000000000 +0000 modelWeights_triang_sk36_2.h5\r\n",
            "-rw-r--r-- 1 root root    932976 2018-06-19 06:49:33.000000000 +0000 modelWeights_triang_sk36_3.h5\r\n",
            "-rw-r--r-- 1 root root      5027 2018-06-12 07:33:34.000000000 +0000 NNmicroTest.py\r\n",
            "-rw-r--r-- 1 root root      1045 2018-06-19 05:24:30.000000000 +0000 normalizer_exp1.pkl\r\n",
            "-rw-r--r-- 1 root root      1045 2018-06-19 05:03:33.000000000 +0000 normalizer_exp2.pkl\r\n",
            "-rw-r--r-- 1 root root      1045 2018-06-19 05:57:25.000000000 +0000 normalizer_exp3.pkl\r\n",
            "-rw-r--r-- 1 root root      1045 2018-06-19 06:54:15.000000000 +0000 normalizer_exp_sk36_1.pkl\r\n",
            "-rw-r--r-- 1 root root      1045 2018-06-19 07:02:36.000000000 +0000 normalizer_exp_sk36_2.pkl\r\n",
            "-rw-r--r-- 1 root root      1045 2018-06-19 07:29:06.000000000 +0000 normalizer_exp_sk36_3.pkl\r\n",
            "-rw-r--r-- 1 root root      1045 2018-06-18 22:05:51.000000000 +0000 normalizer_triang1.pkl\r\n",
            "-rw-r--r-- 1 root root      1045 2018-06-18 22:23:51.000000000 +0000 normalizer_triang2.pkl\r\n",
            "-rw-r--r-- 1 root root      1045 2018-06-19 06:05:35.000000000 +0000 normalizer_triang_sk36_1.pkl\r\n",
            "-rw-r--r-- 1 root root      1045 2018-06-19 06:09:59.000000000 +0000 normalizer_triang_sk36_2.pkl\r\n",
            "-rw-r--r-- 1 root root      1045 2018-06-19 06:49:34.000000000 +0000 normalizer_triang_sk36_3.pkl\r\n",
            "-rw-r--r-- 1 root root     14457 2018-06-13 10:12:22.000000000 +0000 output_train.txt\r\n",
            "-rw-r--r-- 1 root root    598112 2018-06-12 06:54:06.000000000 +0000 Positive_test.h5\r\n",
            "-rw-r--r-- 1 root root   1773152 2018-06-12 06:53:56.000000000 +0000 Positive_train.h5\r\n",
            "drwxr-xr-x 2 root root      4096 2018-06-15 19:04:58.000000000 +0000 __pycache__\r\n",
            "-rw-r--r-- 1 root root      3942 2018-06-13 17:51:52.000000000 +0000 sequentialKeras.py\r\n"
          ],
          "name": "stdout"
        }
      ]
    },
    {
      "metadata": {
        "id": "bDPuYa05w3vi",
        "colab_type": "text"
      },
      "cell_type": "markdown",
      "source": [
        "# Train"
      ]
    },
    {
      "metadata": {
        "id": "zlxA3TZqpAUn",
        "colab_type": "code",
        "colab": {
          "autoexec": {
            "startup": false,
            "wait_interval": 0
          },
          "base_uri": "https://localhost:8080/",
          "height": 34
        },
        "outputId": "f6e66867-6380-4833-97df-d0044b27b75c",
        "executionInfo": {
          "status": "ok",
          "timestamp": 1529439171686,
          "user_tz": -120,
          "elapsed": 833,
          "user": {
            "displayName": "Basel Alyafi",
            "photoUrl": "//lh5.googleusercontent.com/-4bc4xy97xjo/AAAAAAAAAAI/AAAAAAAAAAw/d71NcTv7iIM/s50-c-k-no/photo.jpg",
            "userId": "104216984007366956330"
          }
        }
      },
      "cell_type": "code",
      "source": [
        "import datetime\n",
        "\n",
        "train_size  = 128000\n",
        "actual_num_pos_train = 3459\n",
        "actual_num_neg_train = train_size - actual_num_pos_train\n",
        "\n",
        "\n",
        "#initially, the rising edge covers the complete experiment\n",
        "fixed_lr = 0.2\n",
        "base_lr = 0.002    #1e-3\n",
        "max_lr = 0.03      #4e-1\n",
        "epochs = 12\n",
        "epochs_per_step = 2\n",
        "batch_size = 32\n",
        "step_size = (int)(((train_size/batch_size))*epochs_per_step) \n",
        "print('confirmed at {}'.format(datetime.datetime.now().time()))\n",
        "\n",
        "model_name = \"kerasModel_fixed.json\"\n",
        "weights_name = \"modelWeights_fixed.h5\"\n",
        "normalizer_name = \"normalizer_fixed.pkl\"\n",
        "policy = 'exp_range'\n",
        "\n",
        "# to save models, weights, and normalizers\n",
        "save = False; "
      ],
      "execution_count": 8,
      "outputs": [
        {
          "output_type": "stream",
          "text": [
            "confirmed at 20:12:51.208242\n"
          ],
          "name": "stdout"
        }
      ]
    },
    {
      "metadata": {
        "id": "A09xm2QqqqrP",
        "colab_type": "code",
        "colab": {
          "autoexec": {
            "startup": false,
            "wait_interval": 0
          },
          "base_uri": "https://localhost:8080/",
          "height": 302
        },
        "outputId": "9a6fb7c8-bdeb-4634-ac98-55710c12f708"
      },
      "cell_type": "code",
      "source": [
        "from __future__ import print_function\n",
        "\n",
        "import numpy as np\n",
        "import matplotlib.pyplot as plt\n",
        "from CLR import CyclicLR\n",
        "### keras tools\n",
        "from keras.models import model_from_json\n",
        "from keras.layers import Dense\n",
        "from keras.layers import Input\n",
        "from keras.layers import Conv2D\n",
        "from keras.layers import MaxPooling2D\n",
        "from keras.layers import Dropout\n",
        "from keras.layers import Flatten\n",
        "from keras.models import Sequential\n",
        "from keras.optimizers import SGD\n",
        "from keras.utils import to_categorical\n",
        "from keras.preprocessing.image import ImageDataGenerator\n",
        "\n",
        "\n",
        "## sklearn tools\n",
        "from sklearn.preprocessing import StandardScaler\n",
        "from sklearn.utils import shuffle\n",
        "from sklearn.metrics import roc_curve\n",
        "from sklearn.metrics import roc_auc_score\n",
        "from sklearn.externals import joblib\n",
        "from sklearn.metrics import precision_recall_fscore_support\n",
        "import scikitplot as skplt\n",
        "\n",
        "import h5py\n",
        "#################################################################################################################\n",
        "\n",
        "# POSITIVE - TRAIN\n",
        "print(\"version 7\")\n",
        "\n",
        "\n",
        "print(\"step_size = {}\".format(step_size))\n",
        "print('epochs {}, base_lr {}, max_lr {}, batch_size {}, epochs_per_step {}'.format(epochs, base_lr, max_lr, batch_size, epochs_per_step))\n",
        "fpos = h5py.File('Positive_train.h5', 'r')\n",
        "first_key=list(fpos.keys())[0]\n",
        "dpos=fpos[first_key]\n",
        "size_image=dpos.shape[1]\n",
        "num_pos_train = dpos.shape[0]\n",
        "dposar = np.zeros(dpos.shape)\n",
        "dpos.read_direct(dposar)\n",
        "train_pos=dposar.reshape([-1,size_image,size_image,1])\n",
        "\n",
        "print(\"Total positive patches for training are: \", num_pos_train)\n",
        "\n",
        "# NEGATIVE - TRAIN\n",
        "fneg = h5py.File('300kNegative_train.h5', 'r')\n",
        "first_key=list(fneg.keys())[0]\n",
        "dneg=fneg[first_key]\n",
        "size_image=dneg.shape[1]\n",
        "num_neg_train = dneg.shape[0]\n",
        "dnegar = np.zeros(dneg.shape)\n",
        "dneg.read_direct(dnegar)\n",
        "train_neg=dnegar.reshape([-1,size_image,size_image,1])\n",
        "\n",
        "print(\"Total negative patches for training are: \", num_neg_train)\n",
        "print('-----------------------------------------------------------')\n",
        "\n",
        "print(\"Positive patches for training are: \", actual_num_pos_train)\n",
        "print(\"Negative patches for training are: \", actual_num_neg_train)\n",
        "\n",
        "\n",
        "\n",
        "# Create the target vectors\n",
        "train_pos_lab = np.ones((actual_num_pos_train,1))\n",
        "train_neg_lab = np.zeros((actual_num_neg_train,1))\n",
        "\n",
        "#### Build the training set  (images and targets)\n",
        "tpos = np.copy(train_pos[0:actual_num_pos_train,:,:,:])\n",
        "tneg = np.copy(train_neg[0:actual_num_neg_train,:,:,:])\n",
        "\n",
        "# Stack the subsets\n",
        "X_Train = np.vstack((tpos,tneg))\n",
        "Y_Train = np.vstack((train_pos_lab,train_neg_lab))\n",
        "\n",
        "# Shuffle the two arrays in unison\n",
        "X_Train, Y_Train = shuffle(X_Train,Y_Train)\n",
        "\n",
        "######################################################## augmentation + \n",
        "#######################         Normalization\n",
        "\n",
        "datagen = ImageDataGenerator(\n",
        "    featurewise_center=True,\n",
        "    featurewise_std_normalization=True,\n",
        "    rotation_range=0,\n",
        "    vertical_flip=False)\n",
        "datagen.fit(X_Train)\n",
        "\n",
        "################################# Network architecture\n",
        "model = Sequential()\n",
        "\n",
        "model.add(Conv2D(filters = 32, kernel_size=(3, 3), activation='relu',padding='same', name='block1_conv1', input_shape = X_Train.shape[1:]))\n",
        "model.add(Conv2D(filters =32, kernel_size=(3, 3), activation='relu',padding='same', name='block1_conv2'))\n",
        "model.add(MaxPooling2D((2, 2), strides=(2, 2), name='block1_pool'))\n",
        "\n",
        "model.add(Conv2D(filters =32, kernel_size=(3, 3), activation='relu',padding='same', name='block2_conv1'))\n",
        "model.add(Conv2D(filters =32, kernel_size=(3, 3), activation='relu',padding='same', name='block2_conv2'))\n",
        "model.add(MaxPooling2D((2, 2), strides=(2, 2), name='block2_pool'))\n",
        "\n",
        "model.add(Flatten())\n",
        "\n",
        "model.add(Dense(units = 256, activation='relu', name='fc1'))\n",
        "model.add(Dropout(rate=0.5))\n",
        "\n",
        "model.add(Dense(units = 256, activation='relu', name='fc2'))\n",
        "model.add(Dropout(rate=0.5))\n",
        "\n",
        "model.add(Dense(units=2, activation='softmax', name='predictions'))\n",
        "\n",
        "\n",
        "Y_one_hot = to_categorical(np.ravel(Y_Train),2)\n",
        "\n",
        "#### fixed lr part\n",
        "\n",
        "# gradientDescent = SGD(lr= 0.1, decay=0.96)\n",
        "# model.compile(gradientDescent, loss= 'categorical_crossentropy', metrics = ['accuracy'])\n",
        "\n",
        "# model.fit_generator(datagen.flow(x= X_Train, y =Y_one_hot,batch_size = batch_size),\n",
        "#                      verbose = 2,epochs=epochs,  use_multiprocessing=True) #steps_per_epoch=len(X_Train) /batch_size,\n",
        "\n",
        "\n",
        "##clr\n",
        "\n",
        "clr_triangular = CyclicLR(mode = policy, base_lr = base_lr, max_lr = max_lr, step_size = step_size, gamma=0.99994)\n",
        "\n",
        "gradientDescent=SGD()\n",
        "model.compile(gradientDescent, loss= 'categorical_crossentropy', metrics = ['accuracy'])\n",
        "\n",
        "#### model.summary()\n",
        "model.fit_generator(datagen.flow(x= X_Train, y =Y_one_hot,batch_size = batch_size),steps_per_epoch=len(X_Train) / batch_size,\n",
        "                    callbacks=[clr_triangular], verbose=2, \n",
        "                    epochs=epochs, use_multiprocessing=True)\n",
        "\n",
        "plt.figure(1)\n",
        "plt.ylabel('Training accuracy')\n",
        "plt.xlabel('Learning Rate')\n",
        "plt.title(\"CLR - '{}' Policy\".format(policy))\n",
        "plt.plot(clr_triangular.history['lr'],clr_triangular.history['acc'] )\n",
        "\n",
        "plt.figure(2)\n",
        "\n",
        "plt.xlabel('Iteration')\n",
        "plt.ylabel('Learning Rate')\n",
        "plt.title(\"CLR - '{}' Policy\".format(policy))\n",
        "plt.plot(clr_triangular.history['iterations'],clr_triangular.history['lr'] )\n",
        "\n",
        "plt.figure(3)\n",
        "\n",
        "plt.xlabel('Iteration')\n",
        "plt.ylabel('Training Accuracy')\n",
        "plt.title(\"CLR - '{}' Policy\".format(policy))\n",
        "plt.plot(clr_triangular.history['iterations'],clr_triangular.history['acc'] )\n",
        "\n",
        "#####################################################\n",
        "#NORMALIATION    #######################################\n",
        "\n",
        "normalized_Xtrain = datagen.standardize(X_Train)\n",
        "\n",
        "####################################################\n",
        "####################################################\n",
        "y_pred_keras = model.predict_proba(normalized_Xtrain, verbose=2, batch_size=batch_size)\n",
        "fpr_keras, tpr_keras, _ = roc_curve(Y_Train, y_pred_keras[:,1])\n",
        "train_auc = roc_auc_score(Y_Train, y_pred_keras[:,1])\n",
        "\n",
        "train_precision, train_recall, train_f1score,_ = precision_recall_fscore_support(Y_Train, np.argmax(y_pred_keras, axis=1),average = 'binary')\n",
        "print(\"AUC: %.4f PRECISION:  %.4f RECALL: %.4f F1SCORE: %.4f \" %(train_auc,train_precision, train_recall, train_f1score))\n",
        "\n",
        "\n",
        "skplt.metrics.plot_roc(Y_Train, y_pred_keras, plot_micro=False, plot_macro=False, classes_to_plot=1)\n",
        "############################### #serialize model to JSON and weights to HDF5\n",
        "if save == True:\n",
        "    model_json = model.to_json()\n",
        "    with open(model_name, 'w') as json_file:\n",
        "        json_file.write(model_json)\n",
        "\n",
        "    model.save_weights(weights_name)\n",
        "    joblib.dump(datagen,normalizer_name)\n",
        "\n",
        "    print(\"model {}, normalizer, and weights have been saved\".format(model_name))\n",
        "\n",
        "###############################\n",
        "\n"
      ],
      "execution_count": 0,
      "outputs": [
        {
          "output_type": "stream",
          "text": [
            "version 7\n",
            "step_size = 2000\n",
            "epochs 20, base_lr 0.002, max_lr 0.03, batch_size 128, epochs_per_step 2\n",
            "Total positive patches for training are:  3459\n",
            "Total negative patches for training are:  304225\n",
            "-----------------------------------------------------------\n",
            "Positive patches for training are:  3459\n",
            "Negative patches for training are:  124541\n",
            "Epoch 1/20\n",
            " - 14s - loss: 0.2251 - acc: 0.9722\n",
            "Epoch 2/20\n",
            " - 14s - loss: 0.1812 - acc: 0.9730\n",
            "Epoch 3/20\n",
            " - 14s - loss: 0.1756 - acc: 0.9730\n",
            "Epoch 4/20\n",
            " - 14s - loss: 0.1726 - acc: 0.9730\n",
            "Epoch 5/20\n"
          ],
          "name": "stdout"
        }
      ]
    },
    {
      "metadata": {
        "id": "fQwc7j6Awysn",
        "colab_type": "text"
      },
      "cell_type": "markdown",
      "source": [
        "# **TEST**"
      ]
    },
    {
      "metadata": {
        "id": "WbXU99q3NLvs",
        "colab_type": "code",
        "colab": {
          "autoexec": {
            "startup": false,
            "wait_interval": 0
          },
          "base_uri": "https://localhost:8080/",
          "height": 862
        },
        "outputId": "846af94e-b431-4c7d-de37-577329766fe3",
        "executionInfo": {
          "status": "ok",
          "timestamp": 1529393491395,
          "user_tz": -120,
          "elapsed": 25602,
          "user": {
            "displayName": "Basel Alyafi",
            "photoUrl": "//lh5.googleusercontent.com/-4bc4xy97xjo/AAAAAAAAAAI/AAAAAAAAAAw/d71NcTv7iIM/s50-c-k-no/photo.jpg",
            "userId": "104216984007366956330"
          }
        }
      },
      "cell_type": "code",
      "source": [
        "from __future__ import print_function\n",
        "\n",
        "import numpy as np\n",
        "\n",
        "from keras.models import model_from_json\n",
        "from keras.optimizers import SGD\n",
        "from keras.utils import to_categorical\n",
        "from keras.preprocessing.image import ImageDataGenerator\n",
        "\n",
        "from sklearn.preprocessing import StandardScaler\n",
        "from sklearn.metrics import roc_curve\n",
        "from sklearn.metrics import auc\n",
        "from sklearn.externals import joblib\n",
        "from sklearn.metrics import precision_recall_fscore_support\n",
        "from sklearn.metrics import precision_recall_curve\n",
        "from sklearn.metrics import accuracy_score\n",
        "from sklearn.metrics import roc_auc_score\n",
        "\n",
        "import scikitplot as skplt\n",
        "import h5py\n",
        "\n",
        "\n",
        "#################################################################################################################\n",
        "# POSITIVE - Test\n",
        "fpos = h5py.File('Positive_test.h5', 'r')\n",
        "first_key = list(fpos.keys())[0]\n",
        "dpos=fpos[first_key]\n",
        "size_image=dpos.shape[1]\n",
        "num_pos_test = dpos.shape[0]\n",
        "dposar = np.zeros(dpos.shape)\n",
        "dpos.read_direct(dposar)\n",
        "test_pos=dposar.reshape([-1,size_image,size_image,1])\n",
        "\n",
        "print(\"Total positive patches for testing are: \", num_pos_test)\n",
        "\n",
        "# NEGATIVE - Test\n",
        "fneg = h5py.File('300kNegative_test.h5', 'r')\n",
        "first_key=list(fneg.keys())[0]\n",
        "dneg=fneg[first_key]\n",
        "size_image=dneg.shape[1]\n",
        "num_neg_test = dneg.shape[0]\n",
        "dnegar = np.zeros(dneg.shape)\n",
        "dneg.read_direct(dnegar)\n",
        "test_neg=dnegar.reshape([-1,size_image,size_image,1])\n",
        "\n",
        "print(\"Total negative patches for testing are: \", num_neg_test)\n",
        "\n",
        "# the sum of positive and negative test set ~= 20% od training set size\n",
        "actual_num_pos_test = 1164\n",
        "actual_num_neg_test = 110000\n",
        "\n",
        "# Create the target vectors\n",
        "test_pos_lab = np.ones((actual_num_pos_test,1))\n",
        "test_neg_lab = np.zeros((actual_num_neg_test,1))\n",
        "\n",
        "#### Build the training set  (images and targets)\n",
        "tpos = np.copy(test_pos[0:actual_num_pos_test,:,:,:])\n",
        "tneg = np.copy(test_neg[0:actual_num_neg_test,:,:,:])\n",
        "\n",
        "# Stack the subsets\n",
        "X_Test = np.vstack((tpos,tneg))\n",
        "Y_Test = np.vstack((test_pos_lab,test_neg_lab))\n",
        "\n",
        "json_file = open(model_name, 'r')\n",
        "loaded_json_model = json_file.read()\n",
        "json_file.close()\n",
        "\n",
        "loaded_model = model_from_json(loaded_json_model)\n",
        "loaded_model.load_weights(weights_name)\n",
        "\n",
        "print(\"model {} loaded\".format(model_name))\n",
        "gradientDescent = SGD(lr= 0.1, decay=0.96)\n",
        "loaded_model.compile(gradientDescent, loss= 'categorical_crossentropy', metrics = ['accuracy'])\n",
        "\n",
        "####### Loading NORMALIZER #######\n",
        "########                 ################################\n",
        "normalizer  = joblib.load(normalizer_name)\n",
        "normalized_Xtest = normalizer.standardize(X_Test)\n",
        "\n",
        "predictions = loaded_model.predict_proba(normalized_Xtest)\n",
        "Y_one_hot = to_categorical(np.ravel(Y_Test),2)\n",
        "score = loaded_model.evaluate(x=X_Test,y= Y_one_hot)\n",
        "print(\"The Scored loss is %.4f, accuracy %.4f\"%(score[0], score[1]))\n",
        "\n",
        "# print('accuracy ={}'.format(np.mean(np.argmax(predictions,1)==Y_Test)))\n",
        "# print('accuracy ={}'.format(accuracy_score(Y_Test, np.argmax(predictions,1))))\n",
        "\n",
        "fpr_keras, tpr_keras, _ = roc_curve(Y_Test, predictions[:,1])\n",
        "\n",
        "test_auc = roc_auc_score(Y_Test, predictions[:,1])\n",
        "\n",
        "test_precision, test_recall, test_f1score, _ = precision_recall_fscore_support(Y_Test, np.argmax(predictions, axis=1),average = 'binary')\n",
        "\n",
        "print(\"AUC: %.4f PRECISION:  %.4f RECALL: %.4f F1SCORE: %.4f \" %(test_auc,test_precision, test_recall, test_f1score))\n",
        "\n",
        "skplt.metrics.plot_roc(Y_Test, predictions ,plot_micro=False, plot_macro=False, classes_to_plot=1)\n",
        "skplt.metrics.plot_precision_recall(Y_Test, predictions ,plot_micro=False, classes_to_plot=1, cmap='plasma')\n"
      ],
      "execution_count": 49,
      "outputs": [
        {
          "output_type": "stream",
          "text": [
            "Total positive patches for testing are:  1164\n",
            "Total negative patches for testing are:  110000\n",
            "model kerasModel_exp_sk36_3.json loaded\n",
            "111164/111164 [==============================] - 13s 116us/step\n",
            "The Scored loss is 0.0063, accuracy 0.9980\n",
            "AUC: 0.9970 PRECISION:  0.8659 RECALL: 0.9596 F1SCORE: 0.9104 \n"
          ],
          "name": "stdout"
        },
        {
          "output_type": "execute_result",
          "data": {
            "text/plain": [
              "<matplotlib.axes._subplots.AxesSubplot at 0x7fb9573b1f28>"
            ]
          },
          "metadata": {
            "tags": []
          },
          "execution_count": 49
        },
        {
          "output_type": "display_data",
          "data": {
            "image/png": "[encoded data removed]",
            "text/plain": [
              "<matplotlib.figure.Figure at 0x7fb9577066d8>"
            ]
          },
          "metadata": {
            "tags": []
          }
        },
        {
          "output_type": "display_data",
          "data": {
            "image/png": "[encoded data removed]",
            "text/plain": [
              "<matplotlib.figure.Figure at 0x7fb95765aa20>"
            ]
          },
          "metadata": {
            "tags": []
          }
        }
      ]
    },
    {
      "metadata": {
        "id": "17lxcpQocnKI",
        "colab_type": "text"
      },
      "cell_type": "markdown",
      "source": [
        ""
      ]
    },
    {
      "metadata": {
        "id": "HG25mN6PcKkg",
        "colab_type": "code",
        "colab": {
          "autoexec": {
            "startup": false,
            "wait_interval": 0
          }
        }
      },
      "cell_type": "code",
      "source": [
        ""
      ],
      "execution_count": 0,
      "outputs": []
    }
  ]
}